{
 "cells": [
  {
   "cell_type": "markdown",
   "id": "GEqQaHzsZ_bA",
   "metadata": {
    "id": "GEqQaHzsZ_bA"
   },
   "source": [
    "В проекте нужно обучить модель на данных о жилье в Калифорнии в 1990 году. На основе данных нужно предсказать медианную стоимость дома в жилом массиве. Для оценки качества модели используйте метрики RMSE, MAE и R2."
   ]
  },
  {
   "cell_type": "markdown",
   "id": "53871372",
   "metadata": {
    "id": "53871372"
   },
   "source": [
    "### подготовка данных"
   ]
  },
  {
   "cell_type": "markdown",
   "id": "ec18f012",
   "metadata": {},
   "source": [
    "импорт библиотек"
   ]
  },
  {
   "cell_type": "code",
   "execution_count": 1,
   "id": "df92e3ec",
   "metadata": {
    "id": "df92e3ec"
   },
   "outputs": [],
   "source": [
    "import pandas as pd \n",
    "import numpy as np\n",
    "import pyspark\n",
    "import pyspark.sql.functions as F\n",
    "\n",
    "from pyspark.sql import SparkSession\n",
    "from pyspark.sql.types import *\n",
    "from pyspark.ml import Pipeline\n",
    "from pyspark.ml.feature import StringIndexer, VectorAssembler, StandardScaler, OneHotEncoder\n",
    "from pyspark.ml.regression import LinearRegression\n",
    "from pyspark.ml.evaluation import RegressionEvaluator"
   ]
  },
  {
   "cell_type": "markdown",
   "id": "40815adb",
   "metadata": {},
   "source": [
    "импорт данных"
   ]
  },
  {
   "cell_type": "code",
   "execution_count": 2,
   "id": "24e0a930",
   "metadata": {},
   "outputs": [
    {
     "name": "stderr",
     "output_type": "stream",
     "text": [
      "                                                                                \r"
     ]
    }
   ],
   "source": [
    "RANDOM_SEED = 12345\n",
    "\n",
    "spark = SparkSession.builder \\\n",
    "                    .master(\"local\") \\\n",
    "                    .appName(\"Housing - Linear regression\") \\\n",
    "                    .getOrCreate()\n",
    "\n",
    "df = spark.read.option('header', 'true').csv('/datasets/housing.csv', inferSchema = True) "
   ]
  },
  {
   "cell_type": "code",
   "execution_count": 3,
   "id": "9f05872e",
   "metadata": {
    "scrolled": false
   },
   "outputs": [
    {
     "name": "stdout",
     "output_type": "stream",
     "text": [
      "+---------+--------+------------------+-----------+--------------+----------+----------+-------------+------------------+---------------+\n",
      "|longitude|latitude|housing_median_age|total_rooms|total_bedrooms|population|households|median_income|median_house_value|ocean_proximity|\n",
      "+---------+--------+------------------+-----------+--------------+----------+----------+-------------+------------------+---------------+\n",
      "|  -122.23|   37.88|              41.0|      880.0|         129.0|     322.0|     126.0|       8.3252|          452600.0|       NEAR BAY|\n",
      "|  -122.22|   37.86|              21.0|     7099.0|        1106.0|    2401.0|    1138.0|       8.3014|          358500.0|       NEAR BAY|\n",
      "|  -122.24|   37.85|              52.0|     1467.0|         190.0|     496.0|     177.0|       7.2574|          352100.0|       NEAR BAY|\n",
      "+---------+--------+------------------+-----------+--------------+----------+----------+-------------+------------------+---------------+\n",
      "only showing top 3 rows\n",
      "\n"
     ]
    }
   ],
   "source": [
    "df.show(3)"
   ]
  },
  {
   "cell_type": "markdown",
   "id": "64d233e4",
   "metadata": {},
   "source": [
    "данные выгрузились корректно\n",
    "\n",
    "проверим пропущенные значения"
   ]
  },
  {
   "cell_type": "code",
   "execution_count": 4,
   "id": "3dfd4fa3",
   "metadata": {
    "scrolled": true
   },
   "outputs": [
    {
     "name": "stderr",
     "output_type": "stream",
     "text": [
      "[Stage 3:>                                                          (0 + 1) / 1]\r"
     ]
    },
    {
     "name": "stdout",
     "output_type": "stream",
     "text": [
      "   longitude  latitude  housing_median_age  total_rooms  total_bedrooms  \\\n",
      "0          0         0                   0            0             207   \n",
      "\n",
      "   population  households  median_income  median_house_value  ocean_proximity  \n",
      "0           0           0              0                   0                0  \n"
     ]
    },
    {
     "name": "stderr",
     "output_type": "stream",
     "text": [
      "                                                                                \r"
     ]
    }
   ],
   "source": [
    "missing_data = df.agg(*[F.count(F.when(F.isnull(c), c)).alias(c) for c in df.columns]).toPandas()\n",
    "print(missing_data)"
   ]
  },
  {
   "cell_type": "markdown",
   "id": "76464685",
   "metadata": {},
   "source": [
    "пропущенные значения в колонке total_bedrooms заполним медианой"
   ]
  },
  {
   "cell_type": "code",
   "execution_count": 5,
   "id": "2c902d7c",
   "metadata": {},
   "outputs": [
    {
     "name": "stderr",
     "output_type": "stream",
     "text": [
      "                                                                                \r"
     ]
    }
   ],
   "source": [
    "median = df.approxQuantile('total_bedrooms', [0.5], 0.001)[0]\n",
    "df = df.fillna({'total_bedrooms': median})"
   ]
  },
  {
   "cell_type": "markdown",
   "id": "db476a80",
   "metadata": {},
   "source": [
    "создадим новые признаки"
   ]
  },
  {
   "cell_type": "code",
   "execution_count": 6,
   "id": "ace39579",
   "metadata": {
    "scrolled": true
   },
   "outputs": [
    {
     "name": "stdout",
     "output_type": "stream",
     "text": [
      "root\n",
      " |-- longitude: double (nullable = true)\n",
      " |-- latitude: double (nullable = true)\n",
      " |-- housing_median_age: double (nullable = true)\n",
      " |-- total_rooms: double (nullable = true)\n",
      " |-- total_bedrooms: double (nullable = false)\n",
      " |-- population: double (nullable = true)\n",
      " |-- households: double (nullable = true)\n",
      " |-- median_income: double (nullable = true)\n",
      " |-- median_house_value: double (nullable = true)\n",
      " |-- ocean_proximity: string (nullable = true)\n",
      " |-- population_in_household: double (nullable = true)\n",
      " |-- bedroom_index: double (nullable = true)\n",
      " |-- rooms_per_household: double (nullable = true)\n",
      "\n"
     ]
    }
   ],
   "source": [
    "df = df.withColumn('population_in_household', F.col('population') / F.col('households'))\n",
    "df = df.withColumn('bedroom_index', F.col('total_bedrooms') / F.col('total_rooms'))\n",
    "df = df.withColumn('rooms_per_household', F.col('total_rooms') / F.col('households'))\n",
    "df.printSchema()"
   ]
  },
  {
   "cell_type": "markdown",
   "id": "7d9e639f",
   "metadata": {},
   "source": [
    "подготовка признаков"
   ]
  },
  {
   "cell_type": "code",
   "execution_count": 7,
   "id": "c5152031",
   "metadata": {},
   "outputs": [],
   "source": [
    "categorical_cols = ['ocean_proximity']\n",
    "numerical_cols  = ['longitude', 'latitude', 'housing_median_age', 'total_rooms', 'total_bedrooms', 'population', 'households', 'median_income', 'rooms_per_household', 'population_in_household', 'bedroom_index'  ]\n",
    "target = ['median_house_value']"
   ]
  },
  {
   "cell_type": "code",
   "execution_count": 8,
   "id": "381e38ac",
   "metadata": {},
   "outputs": [],
   "source": [
    "train_data, test_data = df.randomSplit([0.8, 0.2], RANDOM_SEED)"
   ]
  },
  {
   "cell_type": "code",
   "execution_count": 9,
   "id": "7733b4b8",
   "metadata": {
    "scrolled": false
   },
   "outputs": [],
   "source": [
    "indexer = StringIndexer(inputCols=categorical_cols, outputCols=[c+'_idx' for c in categorical_cols])\n",
    "encoder = OneHotEncoder(inputCols=[c+'_idx' for c in categorical_cols],outputCols=[c+'_ohe' for c in categorical_cols])\n",
    "categorical_assembler = VectorAssembler(inputCols=[c+'_ohe' for c in categorical_cols],outputCol=\"categorical_features\")\n",
    "numerical_assembler = VectorAssembler(inputCols=numerical_cols,outputCol='numerical_features')\n",
    "standardScaler = StandardScaler(inputCol='numerical_features',outputCol='numerical_features_scaled')\n",
    "final_assembler = VectorAssembler(inputCols=['categorical_features','numerical_features_scaled'], outputCol='features')\n",
    "lr = LinearRegression(featuresCol='features', labelCol=target[0],  maxIter=10, regParam=0.3, elasticNetParam=0.8, standardization=False)"
   ]
  },
  {
   "cell_type": "code",
   "execution_count": 10,
   "id": "db04d1b6",
   "metadata": {},
   "outputs": [],
   "source": [
    "pipeline = Pipeline(stages=[indexer, encoder, categorical_assembler, numerical_assembler, standardScaler, final_assembler,lr])"
   ]
  },
  {
   "cell_type": "markdown",
   "id": "9f0a82f3",
   "metadata": {
    "id": "9f0a82f3"
   },
   "source": [
    "### обучение моделей"
   ]
  },
  {
   "cell_type": "markdown",
   "id": "8b1a2ff4",
   "metadata": {},
   "source": [
    "моедель линейной регресси на всех признаках"
   ]
  },
  {
   "cell_type": "code",
   "execution_count": 11,
   "id": "642d586b",
   "metadata": {
    "scrolled": false
   },
   "outputs": [
    {
     "name": "stderr",
     "output_type": "stream",
     "text": [
      "23/06/04 13:02:45 WARN BLAS: Failed to load implementation from: com.github.fommil.netlib.NativeSystemBLAS\n",
      "23/06/04 13:02:45 WARN BLAS: Failed to load implementation from: com.github.fommil.netlib.NativeRefBLAS\n",
      "                                                                                \r"
     ]
    }
   ],
   "source": [
    "piplineModel = pipeline.fit(train_data)\n",
    "prediction = piplineModel.transform(test_data)"
   ]
  },
  {
   "cell_type": "code",
   "execution_count": 12,
   "id": "0390fb1e",
   "metadata": {},
   "outputs": [
    {
     "name": "stderr",
     "output_type": "stream",
     "text": [
      "                                                                                \r"
     ]
    }
   ],
   "source": [
    "evaluator_rmse = RegressionEvaluator(labelCol=target[0], predictionCol='prediction', metricName='rmse')\n",
    "rmse = evaluator_rmse.evaluate(prediction)\n",
    "\n",
    "evaluator_mae = RegressionEvaluator(labelCol=target[0], predictionCol='prediction', metricName='mae')\n",
    "mae = evaluator_mae.evaluate(prediction)\n",
    "\n",
    "evaluator_r2 = RegressionEvaluator(labelCol=target[0], predictionCol='prediction', metricName='r2')\n",
    "r2 = evaluator_r2.evaluate(prediction)"
   ]
  },
  {
   "cell_type": "markdown",
   "id": "0c8a9b1c",
   "metadata": {},
   "source": [
    "только на колличественных."
   ]
  },
  {
   "cell_type": "code",
   "execution_count": 13,
   "id": "680840ab",
   "metadata": {},
   "outputs": [
    {
     "name": "stderr",
     "output_type": "stream",
     "text": [
      "                                                                                \r"
     ]
    }
   ],
   "source": [
    "numerical_cols  = ['longitude', 'latitude', 'housing_median_age', 'total_rooms', 'total_bedrooms', 'population', 'households', 'median_income', 'rooms_per_household', 'population_in_household', 'bedroom_index'  ]\n",
    "target = ['median_house_value']\n",
    "train_data, test_data = df.randomSplit([0.8, 0.2], RANDOM_SEED)\n",
    "\n",
    "assembler = VectorAssembler(inputCols=numerical_cols,outputCol='numerical_features')\n",
    "standardScaler = StandardScaler(inputCol='numerical_features',outputCol='numerical_features_scaled')\n",
    "final_assembler = VectorAssembler(inputCols=['numerical_features_scaled'], outputCol='features')\n",
    "\n",
    "lr = LinearRegression(featuresCol='features', labelCol=target[0],  maxIter=10, regParam=0.3, elasticNetParam=0.8, standardization=False)\n",
    "pipeline = Pipeline(stages=[assembler, standardScaler, final_assembler,lr])\n",
    "pipelineModel = pipeline.fit(train_data)\n",
    "predictions = pipelineModel.transform(test_data)\n",
    "\n",
    "evaluator_rmse = RegressionEvaluator(labelCol=target[0], predictionCol='prediction', metricName='rmse')\n",
    "rmse_num = evaluator_rmse.evaluate(predictions)\n",
    "\n",
    "evaluator_mae = RegressionEvaluator(labelCol=target[0], predictionCol='prediction', metricName='mae')\n",
    "mae_num = evaluator_mae.evaluate(predictions)\n",
    "\n",
    "evaluator_r2 = RegressionEvaluator(labelCol=target[0], predictionCol='prediction', metricName='r2')\n",
    "r2_num = evaluator_r2.evaluate(predictions)"
   ]
  },
  {
   "cell_type": "markdown",
   "id": "757fd103",
   "metadata": {
    "id": "757fd103"
   },
   "source": [
    "### вывод"
   ]
  },
  {
   "cell_type": "code",
   "execution_count": 14,
   "id": "8cd7730c",
   "metadata": {},
   "outputs": [
    {
     "name": "stdout",
     "output_type": "stream",
     "text": [
      "                                       RMSE           MAE        R2\n",
      "для всех признаков             67896.957492  48729.147766  0.656956\n",
      "для колличественных признаков  69405.517091  49988.934375  0.641543\n"
     ]
    }
   ],
   "source": [
    "final_score = pd.DataFrame({'RMSE': [rmse, rmse_num], 'MAE': [mae, mae_num], 'R2': [r2, r2_num]}, index=['для всех признаков', 'для колличественных признаков'])\n",
    "\n",
    "print(final_score)"
   ]
  },
  {
   "cell_type": "markdown",
   "id": "dc9818bd",
   "metadata": {},
   "source": [
    "Для проекта использовали дф с данными о жилье в Калифорнии в 1990 году. Данные в целом были качественные, немного пропусков  в total_bedrooms. Категориальные признаки обработали indexler и ohe, колличественные standartscaler, затем создали вектор для модели, загрузили все это в контейнер и обучили модель линейной регресси . Лучшие ( хоть и не сильно) результат показала модель обученная всех признаках. \n",
    "\n",
    "Для увеличения эффективности стоит попробовать использовать модели бустинга и более тщательный подбор гиерпараметров."
   ]
  },
  {
   "cell_type": "code",
   "execution_count": 15,
   "id": "5ec8f4f2",
   "metadata": {},
   "outputs": [],
   "source": [
    "spark.stop()"
   ]
  }
 ],
 "metadata": {
  "ExecuteTimeLog": [
   {
    "duration": 51,
    "start_time": "2023-05-09T14:35:17.236Z"
   },
   {
    "duration": 692,
    "start_time": "2023-05-09T14:35:22.649Z"
   },
   {
    "duration": 31438,
    "start_time": "2023-05-09T14:35:29.057Z"
   },
   {
    "duration": 621,
    "start_time": "2023-05-09T14:36:12.888Z"
   },
   {
    "duration": 724,
    "start_time": "2023-05-10T15:32:23.187Z"
   },
   {
    "duration": 28872,
    "start_time": "2023-05-10T15:32:23.917Z"
   },
   {
    "duration": 767,
    "start_time": "2023-05-10T15:32:52.791Z"
   },
   {
    "duration": 6114,
    "start_time": "2023-05-10T15:32:53.560Z"
   },
   {
    "duration": 110,
    "start_time": "2023-05-10T15:34:40.284Z"
   },
   {
    "duration": 3967,
    "start_time": "2023-05-10T15:34:53.293Z"
   },
   {
    "duration": 65,
    "start_time": "2023-05-10T15:39:07.591Z"
   },
   {
    "duration": 17,
    "start_time": "2023-05-10T15:40:20.800Z"
   },
   {
    "duration": 4870,
    "start_time": "2023-05-10T15:40:47.789Z"
   },
   {
    "duration": 3536,
    "start_time": "2023-05-10T15:41:02.766Z"
   },
   {
    "duration": 3,
    "start_time": "2023-05-10T15:48:05.804Z"
   },
   {
    "duration": 758,
    "start_time": "2023-05-10T18:59:22.753Z"
   },
   {
    "duration": 25159,
    "start_time": "2023-05-10T18:59:23.513Z"
   },
   {
    "duration": 687,
    "start_time": "2023-05-10T18:59:48.674Z"
   },
   {
    "duration": 7106,
    "start_time": "2023-05-10T18:59:49.363Z"
   },
   {
    "duration": 106,
    "start_time": "2023-05-10T18:59:56.471Z"
   },
   {
    "duration": 4,
    "start_time": "2023-05-10T18:59:56.579Z"
   },
   {
    "duration": 4958,
    "start_time": "2023-05-10T18:59:56.584Z"
   },
   {
    "duration": 0,
    "start_time": "2023-05-10T19:00:01.544Z"
   },
   {
    "duration": 0,
    "start_time": "2023-05-10T19:00:01.546Z"
   },
   {
    "duration": 0,
    "start_time": "2023-05-10T19:00:01.547Z"
   },
   {
    "duration": 0,
    "start_time": "2023-05-10T19:00:01.549Z"
   },
   {
    "duration": 0,
    "start_time": "2023-05-10T19:00:01.550Z"
   },
   {
    "duration": 677,
    "start_time": "2023-05-10T19:18:52.314Z"
   },
   {
    "duration": 23392,
    "start_time": "2023-05-10T19:18:52.993Z"
   },
   {
    "duration": 678,
    "start_time": "2023-05-10T19:19:16.387Z"
   },
   {
    "duration": 6290,
    "start_time": "2023-05-10T19:19:17.068Z"
   },
   {
    "duration": 108,
    "start_time": "2023-05-10T19:19:23.360Z"
   },
   {
    "duration": 3,
    "start_time": "2023-05-10T19:19:23.469Z"
   },
   {
    "duration": 389,
    "start_time": "2023-05-10T19:19:23.474Z"
   },
   {
    "duration": 0,
    "start_time": "2023-05-10T19:19:23.866Z"
   },
   {
    "duration": 0,
    "start_time": "2023-05-10T19:19:23.867Z"
   },
   {
    "duration": 0,
    "start_time": "2023-05-10T19:19:23.869Z"
   },
   {
    "duration": 0,
    "start_time": "2023-05-10T19:19:23.870Z"
   },
   {
    "duration": 0,
    "start_time": "2023-05-10T19:19:23.872Z"
   },
   {
    "duration": 0,
    "start_time": "2023-05-10T19:19:23.874Z"
   },
   {
    "duration": 700,
    "start_time": "2023-05-10T19:29:48.091Z"
   },
   {
    "duration": 24681,
    "start_time": "2023-05-10T19:29:48.793Z"
   },
   {
    "duration": 787,
    "start_time": "2023-05-10T19:30:13.475Z"
   },
   {
    "duration": 6537,
    "start_time": "2023-05-10T19:30:14.264Z"
   },
   {
    "duration": 107,
    "start_time": "2023-05-10T19:30:20.857Z"
   },
   {
    "duration": 3,
    "start_time": "2023-05-10T19:30:20.967Z"
   },
   {
    "duration": 4821,
    "start_time": "2023-05-10T19:30:20.973Z"
   },
   {
    "duration": 707,
    "start_time": "2023-05-10T19:56:47.871Z"
   },
   {
    "duration": 25704,
    "start_time": "2023-05-10T19:56:48.580Z"
   },
   {
    "duration": 773,
    "start_time": "2023-05-10T19:57:14.286Z"
   },
   {
    "duration": 6608,
    "start_time": "2023-05-10T19:57:15.067Z"
   },
   {
    "duration": 111,
    "start_time": "2023-05-10T19:57:21.677Z"
   },
   {
    "duration": 67,
    "start_time": "2023-05-10T19:57:21.790Z"
   },
   {
    "duration": 103,
    "start_time": "2023-05-10T19:57:21.859Z"
   },
   {
    "duration": 0,
    "start_time": "2023-05-10T19:57:21.965Z"
   },
   {
    "duration": 68,
    "start_time": "2023-05-10T19:58:22.426Z"
   },
   {
    "duration": 1676,
    "start_time": "2023-05-10T19:58:47.890Z"
   },
   {
    "duration": 72,
    "start_time": "2023-05-10T20:01:43.050Z"
   },
   {
    "duration": 130,
    "start_time": "2023-05-10T20:01:55.183Z"
   },
   {
    "duration": 124,
    "start_time": "2023-05-10T20:03:02.566Z"
   },
   {
    "duration": 761,
    "start_time": "2023-05-10T20:03:24.808Z"
   },
   {
    "duration": 23814,
    "start_time": "2023-05-10T20:03:25.571Z"
   },
   {
    "duration": 796,
    "start_time": "2023-05-10T20:03:49.387Z"
   },
   {
    "duration": 6581,
    "start_time": "2023-05-10T20:03:50.185Z"
   },
   {
    "duration": 120,
    "start_time": "2023-05-10T20:03:56.768Z"
   },
   {
    "duration": 3,
    "start_time": "2023-05-10T20:03:56.957Z"
   },
   {
    "duration": 1632,
    "start_time": "2023-05-10T20:03:56.962Z"
   },
   {
    "duration": 0,
    "start_time": "2023-05-10T20:03:58.595Z"
   },
   {
    "duration": 710,
    "start_time": "2023-05-10T20:13:35.082Z"
   },
   {
    "duration": 23487,
    "start_time": "2023-05-10T20:13:35.794Z"
   },
   {
    "duration": 782,
    "start_time": "2023-05-10T20:13:59.283Z"
   },
   {
    "duration": 6297,
    "start_time": "2023-05-10T20:14:00.067Z"
   },
   {
    "duration": 102,
    "start_time": "2023-05-10T20:14:06.366Z"
   },
   {
    "duration": 3,
    "start_time": "2023-05-10T20:14:06.470Z"
   },
   {
    "duration": 72,
    "start_time": "2023-05-10T20:14:06.475Z"
   },
   {
    "duration": 84,
    "start_time": "2023-05-10T20:14:16.073Z"
   },
   {
    "duration": 71,
    "start_time": "2023-05-10T20:15:47.873Z"
   },
   {
    "duration": 92,
    "start_time": "2023-05-10T20:16:22.366Z"
   },
   {
    "duration": 4242,
    "start_time": "2023-05-10T20:16:45.276Z"
   },
   {
    "duration": 659,
    "start_time": "2023-05-10T20:24:54.137Z"
   },
   {
    "duration": 22873,
    "start_time": "2023-05-10T20:24:54.798Z"
   },
   {
    "duration": 695,
    "start_time": "2023-05-10T20:25:17.673Z"
   },
   {
    "duration": 6311,
    "start_time": "2023-05-10T20:25:18.370Z"
   },
   {
    "duration": 177,
    "start_time": "2023-05-10T20:25:24.683Z"
   },
   {
    "duration": 3,
    "start_time": "2023-05-10T20:25:24.863Z"
   },
   {
    "duration": 10502,
    "start_time": "2023-05-10T20:25:24.868Z"
   },
   {
    "duration": 8028,
    "start_time": "2023-05-10T20:25:35.372Z"
   },
   {
    "duration": 749,
    "start_time": "2023-05-10T20:51:56.435Z"
   },
   {
    "duration": 22680,
    "start_time": "2023-05-10T20:51:57.186Z"
   },
   {
    "duration": 703,
    "start_time": "2023-05-10T20:52:19.869Z"
   },
   {
    "duration": 184,
    "start_time": "2023-05-10T20:52:20.574Z"
   },
   {
    "duration": 3,
    "start_time": "2023-05-10T20:52:20.760Z"
   },
   {
    "duration": 12713,
    "start_time": "2023-05-10T20:52:20.764Z"
   },
   {
    "duration": 7984,
    "start_time": "2023-05-10T20:52:33.478Z"
   },
   {
    "duration": 632,
    "start_time": "2023-05-10T20:56:54.361Z"
   },
   {
    "duration": 690,
    "start_time": "2023-05-10T20:57:05.498Z"
   },
   {
    "duration": 23871,
    "start_time": "2023-05-10T20:57:06.190Z"
   },
   {
    "duration": 693,
    "start_time": "2023-05-10T20:57:30.063Z"
   },
   {
    "duration": 233,
    "start_time": "2023-05-10T20:57:30.758Z"
   },
   {
    "duration": 64,
    "start_time": "2023-05-10T20:57:30.992Z"
   },
   {
    "duration": 2771,
    "start_time": "2023-05-10T20:57:31.059Z"
   },
   {
    "duration": 0,
    "start_time": "2023-05-10T20:57:33.831Z"
   },
   {
    "duration": 744,
    "start_time": "2023-05-10T21:00:08.452Z"
   },
   {
    "duration": 24114,
    "start_time": "2023-05-10T21:00:09.198Z"
   },
   {
    "duration": 843,
    "start_time": "2023-05-10T21:00:33.314Z"
   },
   {
    "duration": 7,
    "start_time": "2023-05-10T21:00:34.158Z"
   },
   {
    "duration": 67,
    "start_time": "2023-05-10T21:00:34.167Z"
   },
   {
    "duration": 0,
    "start_time": "2023-05-10T21:00:34.236Z"
   },
   {
    "duration": 0,
    "start_time": "2023-05-10T21:00:34.237Z"
   },
   {
    "duration": 2739,
    "start_time": "2023-05-10T21:00:51.725Z"
   },
   {
    "duration": 714,
    "start_time": "2023-05-10T21:02:06.279Z"
   },
   {
    "duration": 15,
    "start_time": "2023-05-10T21:03:06.003Z"
   },
   {
    "duration": 5,
    "start_time": "2023-05-10T21:06:17.512Z"
   },
   {
    "duration": 655,
    "start_time": "2023-05-10T21:06:17.519Z"
   },
   {
    "duration": 290,
    "start_time": "2023-05-10T21:06:18.176Z"
   },
   {
    "duration": 637,
    "start_time": "2023-05-10T21:06:18.468Z"
   },
   {
    "duration": 463,
    "start_time": "2023-05-10T21:06:19.107Z"
   },
   {
    "duration": 102,
    "start_time": "2023-05-10T21:06:19.572Z"
   },
   {
    "duration": 3,
    "start_time": "2023-05-10T21:06:19.676Z"
   },
   {
    "duration": 8082,
    "start_time": "2023-05-10T21:06:19.681Z"
   },
   {
    "duration": 2921,
    "start_time": "2023-05-10T21:07:35.950Z"
   },
   {
    "duration": 442,
    "start_time": "2023-05-10T21:08:19.254Z"
   },
   {
    "duration": 447,
    "start_time": "2023-05-10T21:15:30.726Z"
   },
   {
    "duration": 22888,
    "start_time": "2023-05-10T21:15:31.175Z"
   },
   {
    "duration": 698,
    "start_time": "2023-05-10T21:15:54.064Z"
   },
   {
    "duration": 2025,
    "start_time": "2023-05-10T21:15:54.765Z"
   },
   {
    "duration": 877,
    "start_time": "2023-05-10T21:15:56.791Z"
   },
   {
    "duration": 190,
    "start_time": "2023-05-10T21:15:57.670Z"
   },
   {
    "duration": 3,
    "start_time": "2023-05-10T21:15:57.862Z"
   },
   {
    "duration": 131,
    "start_time": "2023-05-10T21:15:57.866Z"
   },
   {
    "duration": 255,
    "start_time": "2023-05-10T21:19:50.426Z"
   },
   {
    "duration": 683,
    "start_time": "2023-05-10T21:19:50.684Z"
   },
   {
    "duration": 238,
    "start_time": "2023-05-10T21:19:51.368Z"
   },
   {
    "duration": 852,
    "start_time": "2023-05-10T21:19:51.607Z"
   },
   {
    "duration": 426,
    "start_time": "2023-05-10T21:19:52.461Z"
   },
   {
    "duration": 167,
    "start_time": "2023-05-10T21:19:52.889Z"
   },
   {
    "duration": 4,
    "start_time": "2023-05-10T21:19:53.058Z"
   },
   {
    "duration": 208,
    "start_time": "2023-05-10T21:19:53.063Z"
   },
   {
    "duration": 119,
    "start_time": "2023-05-10T21:20:58.086Z"
   },
   {
    "duration": 758,
    "start_time": "2023-05-10T21:22:26.136Z"
   },
   {
    "duration": 22880,
    "start_time": "2023-05-10T21:22:26.896Z"
   },
   {
    "duration": 784,
    "start_time": "2023-05-10T21:22:49.778Z"
   },
   {
    "duration": 1812,
    "start_time": "2023-05-10T21:22:50.565Z"
   },
   {
    "duration": 903,
    "start_time": "2023-05-10T21:22:52.379Z"
   },
   {
    "duration": 175,
    "start_time": "2023-05-10T21:22:53.284Z"
   },
   {
    "duration": 4,
    "start_time": "2023-05-10T21:22:53.461Z"
   },
   {
    "duration": 393,
    "start_time": "2023-05-10T21:22:53.467Z"
   },
   {
    "duration": 122,
    "start_time": "2023-05-10T21:23:44.631Z"
   },
   {
    "duration": 13,
    "start_time": "2023-05-10T21:30:44.364Z"
   },
   {
    "duration": 700,
    "start_time": "2023-05-10T21:31:36.283Z"
   },
   {
    "duration": 23872,
    "start_time": "2023-05-10T21:31:36.985Z"
   },
   {
    "duration": 619,
    "start_time": "2023-05-10T21:32:00.859Z"
   },
   {
    "duration": 1991,
    "start_time": "2023-05-10T21:32:01.481Z"
   },
   {
    "duration": 803,
    "start_time": "2023-05-10T21:32:03.474Z"
   },
   {
    "duration": 108,
    "start_time": "2023-05-10T21:32:04.279Z"
   },
   {
    "duration": 67,
    "start_time": "2023-05-10T21:32:04.389Z"
   },
   {
    "duration": 9266,
    "start_time": "2023-05-10T21:32:04.458Z"
   },
   {
    "duration": 136,
    "start_time": "2023-05-10T21:34:32.430Z"
   },
   {
    "duration": 699,
    "start_time": "2023-05-10T21:34:53.176Z"
   },
   {
    "duration": 23315,
    "start_time": "2023-05-10T21:34:53.877Z"
   },
   {
    "duration": 771,
    "start_time": "2023-05-10T21:35:17.193Z"
   },
   {
    "duration": 1913,
    "start_time": "2023-05-10T21:35:17.966Z"
   },
   {
    "duration": 875,
    "start_time": "2023-05-10T21:35:19.881Z"
   },
   {
    "duration": 119,
    "start_time": "2023-05-10T21:35:20.758Z"
   },
   {
    "duration": 3,
    "start_time": "2023-05-10T21:35:20.878Z"
   },
   {
    "duration": 9809,
    "start_time": "2023-05-10T21:35:20.883Z"
   },
   {
    "duration": 133,
    "start_time": "2023-05-10T21:55:00.602Z"
   },
   {
    "duration": 721,
    "start_time": "2023-05-10T21:55:23.781Z"
   },
   {
    "duration": 25084,
    "start_time": "2023-05-10T21:55:24.505Z"
   },
   {
    "duration": 872,
    "start_time": "2023-05-10T21:55:49.591Z"
   },
   {
    "duration": 2324,
    "start_time": "2023-05-10T21:55:50.466Z"
   },
   {
    "duration": 881,
    "start_time": "2023-05-10T21:55:52.792Z"
   },
   {
    "duration": 200,
    "start_time": "2023-05-10T21:55:53.675Z"
   },
   {
    "duration": 3,
    "start_time": "2023-05-10T21:55:53.877Z"
   },
   {
    "duration": 51032,
    "start_time": "2023-05-10T21:55:53.894Z"
   },
   {
    "duration": 90,
    "start_time": "2023-05-10T21:59:12.711Z"
   },
   {
    "duration": 121,
    "start_time": "2023-05-10T21:59:24.871Z"
   },
   {
    "duration": 720,
    "start_time": "2023-05-10T21:59:42.262Z"
   },
   {
    "duration": 23482,
    "start_time": "2023-05-10T21:59:42.984Z"
   },
   {
    "duration": 795,
    "start_time": "2023-05-10T22:00:06.468Z"
   },
   {
    "duration": 1927,
    "start_time": "2023-05-10T22:00:07.264Z"
   },
   {
    "duration": 1000,
    "start_time": "2023-05-10T22:00:09.193Z"
   },
   {
    "duration": 128,
    "start_time": "2023-05-10T22:00:10.257Z"
   },
   {
    "duration": 69,
    "start_time": "2023-05-10T22:00:10.387Z"
   },
   {
    "duration": 51526,
    "start_time": "2023-05-10T22:00:10.458Z"
   },
   {
    "duration": 674,
    "start_time": "2023-05-10T22:01:43.199Z"
   },
   {
    "duration": 23715,
    "start_time": "2023-05-10T22:01:43.875Z"
   },
   {
    "duration": 673,
    "start_time": "2023-05-10T22:02:07.592Z"
   },
   {
    "duration": 1920,
    "start_time": "2023-05-10T22:02:08.267Z"
   },
   {
    "duration": 910,
    "start_time": "2023-05-10T22:02:10.188Z"
   },
   {
    "duration": 173,
    "start_time": "2023-05-10T22:02:11.100Z"
   },
   {
    "duration": 4,
    "start_time": "2023-05-10T22:02:11.275Z"
   },
   {
    "duration": 50297,
    "start_time": "2023-05-10T22:02:11.280Z"
   },
   {
    "duration": 666,
    "start_time": "2023-05-10T22:30:43.343Z"
   },
   {
    "duration": 22973,
    "start_time": "2023-05-10T22:30:44.011Z"
   },
   {
    "duration": 686,
    "start_time": "2023-05-10T22:31:06.986Z"
   },
   {
    "duration": 1817,
    "start_time": "2023-05-10T22:31:07.675Z"
   },
   {
    "duration": 824,
    "start_time": "2023-05-10T22:31:09.555Z"
   },
   {
    "duration": 106,
    "start_time": "2023-05-10T22:31:10.382Z"
   },
   {
    "duration": 3,
    "start_time": "2023-05-10T22:31:10.556Z"
   },
   {
    "duration": 46195,
    "start_time": "2023-05-10T22:31:10.561Z"
   },
   {
    "duration": 69,
    "start_time": "2023-05-10T22:38:41.595Z"
   },
   {
    "duration": 14,
    "start_time": "2023-05-10T22:49:53.308Z"
   },
   {
    "duration": 673,
    "start_time": "2023-05-10T22:50:11.002Z"
   },
   {
    "duration": 23407,
    "start_time": "2023-05-10T22:50:11.677Z"
   },
   {
    "duration": 671,
    "start_time": "2023-05-10T22:50:35.085Z"
   },
   {
    "duration": 1813,
    "start_time": "2023-05-10T22:50:35.758Z"
   },
   {
    "duration": 889,
    "start_time": "2023-05-10T22:50:37.573Z"
   },
   {
    "duration": 125,
    "start_time": "2023-05-10T22:50:38.465Z"
   },
   {
    "duration": 3,
    "start_time": "2023-05-10T22:50:38.591Z"
   },
   {
    "duration": 49520,
    "start_time": "2023-05-10T22:50:38.655Z"
   },
   {
    "duration": 102,
    "start_time": "2023-05-10T22:51:28.177Z"
   },
   {
    "duration": 668,
    "start_time": "2023-05-10T22:55:12.935Z"
   },
   {
    "duration": 23267,
    "start_time": "2023-05-10T22:55:13.605Z"
   },
   {
    "duration": 682,
    "start_time": "2023-05-10T22:55:36.874Z"
   },
   {
    "duration": 1935,
    "start_time": "2023-05-10T22:55:37.558Z"
   },
   {
    "duration": 994,
    "start_time": "2023-05-10T22:55:39.495Z"
   },
   {
    "duration": 169,
    "start_time": "2023-05-10T22:55:40.490Z"
   },
   {
    "duration": 4,
    "start_time": "2023-05-10T22:55:40.661Z"
   },
   {
    "duration": 3643,
    "start_time": "2023-05-10T22:55:40.667Z"
   },
   {
    "duration": 734,
    "start_time": "2023-05-10T22:58:10.144Z"
   },
   {
    "duration": 23509,
    "start_time": "2023-05-10T22:58:10.881Z"
   },
   {
    "duration": 691,
    "start_time": "2023-05-10T22:58:34.392Z"
   },
   {
    "duration": 1804,
    "start_time": "2023-05-10T22:58:35.084Z"
   },
   {
    "duration": 800,
    "start_time": "2023-05-10T22:58:36.890Z"
   },
   {
    "duration": 168,
    "start_time": "2023-05-10T22:58:37.692Z"
   },
   {
    "duration": 4,
    "start_time": "2023-05-10T22:58:37.861Z"
   },
   {
    "duration": 4126,
    "start_time": "2023-05-10T22:58:37.866Z"
   },
   {
    "duration": 115,
    "start_time": "2023-05-10T22:59:08.284Z"
   },
   {
    "duration": 662,
    "start_time": "2023-05-10T22:59:56.624Z"
   },
   {
    "duration": 22778,
    "start_time": "2023-05-10T22:59:57.288Z"
   },
   {
    "duration": 619,
    "start_time": "2023-05-10T23:00:20.068Z"
   },
   {
    "duration": 1920,
    "start_time": "2023-05-10T23:00:20.757Z"
   },
   {
    "duration": 716,
    "start_time": "2023-05-10T23:00:22.678Z"
   },
   {
    "duration": 166,
    "start_time": "2023-05-10T23:00:23.397Z"
   },
   {
    "duration": 3,
    "start_time": "2023-05-10T23:00:23.565Z"
   },
   {
    "duration": 49722,
    "start_time": "2023-05-10T23:00:23.570Z"
   },
   {
    "duration": 609,
    "start_time": "2023-05-10T23:12:15.290Z"
   },
   {
    "duration": 23261,
    "start_time": "2023-05-10T23:12:15.901Z"
   },
   {
    "duration": 718,
    "start_time": "2023-05-10T23:12:39.164Z"
   },
   {
    "duration": 2011,
    "start_time": "2023-05-10T23:12:39.884Z"
   },
   {
    "duration": 804,
    "start_time": "2023-05-10T23:12:41.957Z"
   },
   {
    "duration": 117,
    "start_time": "2023-05-10T23:12:42.763Z"
   },
   {
    "duration": 2,
    "start_time": "2023-05-10T23:12:42.882Z"
   },
   {
    "duration": 79617,
    "start_time": "2023-05-10T23:12:42.886Z"
   },
   {
    "duration": 57,
    "start_time": "2023-05-11T16:49:59.095Z"
   },
   {
    "duration": 669,
    "start_time": "2023-05-11T16:50:07.988Z"
   },
   {
    "duration": 24775,
    "start_time": "2023-05-11T16:50:08.659Z"
   },
   {
    "duration": 820,
    "start_time": "2023-05-11T16:50:33.436Z"
   },
   {
    "duration": 2187,
    "start_time": "2023-05-11T16:50:34.258Z"
   },
   {
    "duration": 1196,
    "start_time": "2023-05-11T16:50:36.447Z"
   },
   {
    "duration": 119,
    "start_time": "2023-05-11T16:50:37.709Z"
   },
   {
    "duration": 5,
    "start_time": "2023-05-11T16:50:37.830Z"
   },
   {
    "duration": 5002,
    "start_time": "2023-05-11T16:50:37.836Z"
   },
   {
    "duration": 104,
    "start_time": "2023-05-11T16:50:42.842Z"
   },
   {
    "duration": 89389,
    "start_time": "2023-05-11T16:51:25.040Z"
   },
   {
    "duration": 68262,
    "start_time": "2023-05-11T17:02:22.422Z"
   },
   {
    "duration": 11,
    "start_time": "2023-05-11T17:14:03.215Z"
   },
   {
    "duration": 701,
    "start_time": "2023-05-11T17:35:52.252Z"
   },
   {
    "duration": 26362,
    "start_time": "2023-05-11T17:35:52.955Z"
   },
   {
    "duration": 905,
    "start_time": "2023-05-11T17:36:19.319Z"
   },
   {
    "duration": 2516,
    "start_time": "2023-05-11T17:36:20.226Z"
   },
   {
    "duration": 1195,
    "start_time": "2023-05-11T17:36:22.745Z"
   },
   {
    "duration": 187,
    "start_time": "2023-05-11T17:36:23.942Z"
   },
   {
    "duration": 6,
    "start_time": "2023-05-11T17:36:24.130Z"
   },
   {
    "duration": 2500,
    "start_time": "2023-05-11T17:36:24.137Z"
   },
   {
    "duration": 2171,
    "start_time": "2023-05-11T17:36:26.639Z"
   },
   {
    "duration": 127,
    "start_time": "2023-05-11T17:36:28.811Z"
   },
   {
    "duration": 95712,
    "start_time": "2023-05-11T17:36:28.939Z"
   },
   {
    "duration": 68275,
    "start_time": "2023-05-11T17:38:04.654Z"
   },
   {
    "duration": 8,
    "start_time": "2023-05-11T17:39:12.931Z"
   },
   {
    "duration": 723,
    "start_time": "2023-05-11T19:06:33.584Z"
   },
   {
    "duration": 23400,
    "start_time": "2023-05-11T19:06:34.310Z"
   },
   {
    "duration": 724,
    "start_time": "2023-05-11T19:06:57.712Z"
   },
   {
    "duration": 2204,
    "start_time": "2023-05-11T19:06:58.440Z"
   },
   {
    "duration": 967,
    "start_time": "2023-05-11T19:07:00.646Z"
   },
   {
    "duration": 120,
    "start_time": "2023-05-11T19:07:01.616Z"
   },
   {
    "duration": 68,
    "start_time": "2023-05-11T19:07:01.738Z"
   },
   {
    "duration": 61,
    "start_time": "2023-05-11T19:07:01.808Z"
   },
   {
    "duration": 107,
    "start_time": "2023-05-11T19:07:01.870Z"
   },
   {
    "duration": 0,
    "start_time": "2023-05-11T19:07:01.979Z"
   },
   {
    "duration": 0,
    "start_time": "2023-05-11T19:07:01.980Z"
   },
   {
    "duration": 0,
    "start_time": "2023-05-11T19:07:01.981Z"
   },
   {
    "duration": 0,
    "start_time": "2023-05-11T19:07:01.982Z"
   },
   {
    "duration": 4,
    "start_time": "2023-05-11T19:07:58.482Z"
   },
   {
    "duration": 721,
    "start_time": "2023-05-11T19:07:58.489Z"
   },
   {
    "duration": 394,
    "start_time": "2023-05-11T19:07:59.212Z"
   },
   {
    "duration": 904,
    "start_time": "2023-05-11T19:07:59.609Z"
   },
   {
    "duration": 422,
    "start_time": "2023-05-11T19:08:00.515Z"
   },
   {
    "duration": 101,
    "start_time": "2023-05-11T19:08:00.939Z"
   },
   {
    "duration": 4,
    "start_time": "2023-05-11T19:08:01.042Z"
   },
   {
    "duration": 92,
    "start_time": "2023-05-11T19:08:01.048Z"
   },
   {
    "duration": 33,
    "start_time": "2023-05-11T19:08:01.143Z"
   },
   {
    "duration": 1,
    "start_time": "2023-05-11T19:08:01.178Z"
   },
   {
    "duration": 0,
    "start_time": "2023-05-11T19:08:01.180Z"
   },
   {
    "duration": 0,
    "start_time": "2023-05-11T19:08:01.181Z"
   },
   {
    "duration": 0,
    "start_time": "2023-05-11T19:08:01.183Z"
   },
   {
    "duration": 3,
    "start_time": "2023-05-11T19:09:45.542Z"
   },
   {
    "duration": 464,
    "start_time": "2023-05-11T19:09:45.547Z"
   },
   {
    "duration": 293,
    "start_time": "2023-05-11T19:09:46.013Z"
   },
   {
    "duration": 612,
    "start_time": "2023-05-11T19:09:46.308Z"
   },
   {
    "duration": 395,
    "start_time": "2023-05-11T19:09:46.922Z"
   },
   {
    "duration": 103,
    "start_time": "2023-05-11T19:09:47.319Z"
   },
   {
    "duration": 3,
    "start_time": "2023-05-11T19:09:47.423Z"
   },
   {
    "duration": 87,
    "start_time": "2023-05-11T19:09:47.428Z"
   },
   {
    "duration": 4598,
    "start_time": "2023-05-11T19:09:47.517Z"
   },
   {
    "duration": 0,
    "start_time": "2023-05-11T19:09:52.116Z"
   },
   {
    "duration": 0,
    "start_time": "2023-05-11T19:09:52.118Z"
   },
   {
    "duration": 0,
    "start_time": "2023-05-11T19:09:52.119Z"
   },
   {
    "duration": 0,
    "start_time": "2023-05-11T19:09:52.120Z"
   },
   {
    "duration": 2077,
    "start_time": "2023-05-11T19:15:37.649Z"
   },
   {
    "duration": 699,
    "start_time": "2023-05-11T19:24:29.750Z"
   },
   {
    "duration": 27404,
    "start_time": "2023-05-11T19:24:30.451Z"
   },
   {
    "duration": 901,
    "start_time": "2023-05-11T19:24:57.906Z"
   },
   {
    "duration": 2438,
    "start_time": "2023-05-11T19:24:58.809Z"
   },
   {
    "duration": 1165,
    "start_time": "2023-05-11T19:25:01.250Z"
   },
   {
    "duration": 120,
    "start_time": "2023-05-11T19:25:02.417Z"
   },
   {
    "duration": 5,
    "start_time": "2023-05-11T19:25:02.539Z"
   },
   {
    "duration": 98,
    "start_time": "2023-05-11T19:25:02.546Z"
   },
   {
    "duration": 3314,
    "start_time": "2023-05-11T19:25:02.646Z"
   },
   {
    "duration": 0,
    "start_time": "2023-05-11T19:25:05.962Z"
   },
   {
    "duration": 0,
    "start_time": "2023-05-11T19:25:05.964Z"
   },
   {
    "duration": 0,
    "start_time": "2023-05-11T19:25:05.965Z"
   },
   {
    "duration": 742,
    "start_time": "2023-05-11T20:01:31.006Z"
   },
   {
    "duration": 25996,
    "start_time": "2023-05-11T20:01:31.750Z"
   },
   {
    "duration": 924,
    "start_time": "2023-05-11T20:01:57.806Z"
   },
   {
    "duration": 2116,
    "start_time": "2023-05-11T20:01:58.732Z"
   },
   {
    "duration": 1058,
    "start_time": "2023-05-11T20:02:00.850Z"
   },
   {
    "duration": 196,
    "start_time": "2023-05-11T20:02:01.910Z"
   },
   {
    "duration": 8,
    "start_time": "2023-05-11T20:02:02.109Z"
   },
   {
    "duration": 102,
    "start_time": "2023-05-11T20:02:02.119Z"
   },
   {
    "duration": 186,
    "start_time": "2023-05-11T20:02:02.224Z"
   },
   {
    "duration": 6,
    "start_time": "2023-05-11T20:02:02.412Z"
   },
   {
    "duration": 5510,
    "start_time": "2023-05-11T20:02:02.425Z"
   },
   {
    "duration": 212,
    "start_time": "2023-05-11T20:02:07.937Z"
   },
   {
    "duration": 0,
    "start_time": "2023-05-11T20:02:08.151Z"
   },
   {
    "duration": 0,
    "start_time": "2023-05-11T20:02:08.207Z"
   },
   {
    "duration": 0,
    "start_time": "2023-05-11T20:02:08.208Z"
   },
   {
    "duration": 329,
    "start_time": "2023-05-11T20:02:37.987Z"
   },
   {
    "duration": 682,
    "start_time": "2023-05-11T20:03:01.751Z"
   },
   {
    "duration": 27703,
    "start_time": "2023-05-11T20:03:02.434Z"
   },
   {
    "duration": 881,
    "start_time": "2023-05-11T20:03:30.138Z"
   },
   {
    "duration": 2524,
    "start_time": "2023-05-11T20:03:31.022Z"
   },
   {
    "duration": 999,
    "start_time": "2023-05-11T20:03:33.548Z"
   },
   {
    "duration": 206,
    "start_time": "2023-05-11T20:03:34.549Z"
   },
   {
    "duration": 3,
    "start_time": "2023-05-11T20:03:34.757Z"
   },
   {
    "duration": 40,
    "start_time": "2023-05-11T20:03:34.812Z"
   },
   {
    "duration": 115,
    "start_time": "2023-05-11T20:03:34.854Z"
   },
   {
    "duration": 6,
    "start_time": "2023-05-11T20:03:35.013Z"
   },
   {
    "duration": 5909,
    "start_time": "2023-05-11T20:03:35.026Z"
   },
   {
    "duration": 479,
    "start_time": "2023-05-11T20:03:40.937Z"
   },
   {
    "duration": 141,
    "start_time": "2023-05-11T20:03:41.418Z"
   },
   {
    "duration": 0,
    "start_time": "2023-05-11T20:03:41.561Z"
   },
   {
    "duration": 0,
    "start_time": "2023-05-11T20:03:41.563Z"
   },
   {
    "duration": 204,
    "start_time": "2023-05-11T20:04:05.207Z"
   },
   {
    "duration": 675,
    "start_time": "2023-05-11T20:25:43.077Z"
   },
   {
    "duration": 25759,
    "start_time": "2023-05-11T20:25:43.754Z"
   },
   {
    "duration": 813,
    "start_time": "2023-05-11T20:26:09.515Z"
   },
   {
    "duration": 2593,
    "start_time": "2023-05-11T20:26:10.330Z"
   },
   {
    "duration": 1224,
    "start_time": "2023-05-11T20:26:12.926Z"
   },
   {
    "duration": 200,
    "start_time": "2023-05-11T20:26:14.151Z"
   },
   {
    "duration": 3,
    "start_time": "2023-05-11T20:26:14.356Z"
   },
   {
    "duration": 97,
    "start_time": "2023-05-11T20:26:14.360Z"
   },
   {
    "duration": 277,
    "start_time": "2023-05-11T20:26:14.459Z"
   },
   {
    "duration": 11,
    "start_time": "2023-05-11T20:26:14.738Z"
   },
   {
    "duration": 203,
    "start_time": "2023-05-11T20:26:14.750Z"
   },
   {
    "duration": 0,
    "start_time": "2023-05-11T20:26:14.956Z"
   },
   {
    "duration": 0,
    "start_time": "2023-05-11T20:26:14.957Z"
   },
   {
    "duration": 0,
    "start_time": "2023-05-11T20:26:14.958Z"
   },
   {
    "duration": 0,
    "start_time": "2023-05-11T20:26:14.959Z"
   },
   {
    "duration": 11790,
    "start_time": "2023-05-11T20:26:43.148Z"
   },
   {
    "duration": 80,
    "start_time": "2023-05-11T20:26:54.944Z"
   },
   {
    "duration": 1398,
    "start_time": "2023-05-11T20:27:08.737Z"
   },
   {
    "duration": 2316,
    "start_time": "2023-05-11T20:27:18.102Z"
   },
   {
    "duration": 702,
    "start_time": "2023-05-11T20:38:11.033Z"
   },
   {
    "duration": 26391,
    "start_time": "2023-05-11T20:38:11.739Z"
   },
   {
    "duration": 898,
    "start_time": "2023-05-11T20:38:38.132Z"
   },
   {
    "duration": 2567,
    "start_time": "2023-05-11T20:38:39.042Z"
   },
   {
    "duration": 1037,
    "start_time": "2023-05-11T20:38:41.613Z"
   },
   {
    "duration": 190,
    "start_time": "2023-05-11T20:38:42.651Z"
   },
   {
    "duration": 6,
    "start_time": "2023-05-11T20:38:42.842Z"
   },
   {
    "duration": 99,
    "start_time": "2023-05-11T20:38:42.907Z"
   },
   {
    "duration": 228,
    "start_time": "2023-05-11T20:38:43.008Z"
   },
   {
    "duration": 4,
    "start_time": "2023-05-11T20:38:43.239Z"
   },
   {
    "duration": 12103,
    "start_time": "2023-05-11T20:38:43.245Z"
   },
   {
    "duration": 2568,
    "start_time": "2023-05-11T20:38:55.350Z"
   },
   {
    "duration": 216,
    "start_time": "2023-05-11T20:38:57.920Z"
   },
   {
    "duration": 0,
    "start_time": "2023-05-11T20:38:58.144Z"
   },
   {
    "duration": 0,
    "start_time": "2023-05-11T20:38:58.148Z"
   },
   {
    "duration": 0,
    "start_time": "2023-05-11T20:38:58.152Z"
   },
   {
    "duration": 0,
    "start_time": "2023-05-11T20:38:58.153Z"
   },
   {
    "duration": 0,
    "start_time": "2023-05-11T20:38:58.206Z"
   },
   {
    "duration": 0,
    "start_time": "2023-05-11T20:38:58.208Z"
   },
   {
    "duration": 33,
    "start_time": "2023-05-11T20:41:07.484Z"
   },
   {
    "duration": 37,
    "start_time": "2023-05-11T20:41:15.227Z"
   },
   {
    "duration": 643,
    "start_time": "2023-05-11T20:44:32.724Z"
   },
   {
    "duration": 28343,
    "start_time": "2023-05-11T20:44:33.369Z"
   },
   {
    "duration": 906,
    "start_time": "2023-05-11T20:45:01.718Z"
   },
   {
    "duration": 2896,
    "start_time": "2023-05-11T20:45:02.627Z"
   },
   {
    "duration": 1284,
    "start_time": "2023-05-11T20:45:05.531Z"
   },
   {
    "duration": 218,
    "start_time": "2023-05-11T20:45:06.817Z"
   },
   {
    "duration": 14,
    "start_time": "2023-05-11T20:45:07.037Z"
   },
   {
    "duration": 83,
    "start_time": "2023-05-11T20:45:07.054Z"
   },
   {
    "duration": 184,
    "start_time": "2023-05-11T20:45:07.141Z"
   },
   {
    "duration": 3,
    "start_time": "2023-05-11T20:45:07.328Z"
   },
   {
    "duration": 12323,
    "start_time": "2023-05-11T20:45:07.333Z"
   },
   {
    "duration": 2589,
    "start_time": "2023-05-11T20:45:19.658Z"
   },
   {
    "duration": 117,
    "start_time": "2023-05-11T20:45:22.252Z"
   },
   {
    "duration": 47,
    "start_time": "2023-05-11T20:45:22.371Z"
   },
   {
    "duration": 230,
    "start_time": "2023-05-11T20:45:22.426Z"
   },
   {
    "duration": 0,
    "start_time": "2023-05-11T20:45:22.659Z"
   },
   {
    "duration": 0,
    "start_time": "2023-05-11T20:45:22.660Z"
   },
   {
    "duration": 0,
    "start_time": "2023-05-11T20:45:22.661Z"
   },
   {
    "duration": 0,
    "start_time": "2023-05-11T20:45:22.662Z"
   },
   {
    "duration": 0,
    "start_time": "2023-05-11T20:45:22.663Z"
   },
   {
    "duration": 44,
    "start_time": "2023-05-11T20:47:36.883Z"
   },
   {
    "duration": 88,
    "start_time": "2023-05-11T20:50:30.585Z"
   },
   {
    "duration": 10,
    "start_time": "2023-05-11T20:50:32.867Z"
   },
   {
    "duration": 4,
    "start_time": "2023-05-11T20:50:41.799Z"
   },
   {
    "duration": 44,
    "start_time": "2023-05-11T20:50:45.261Z"
   },
   {
    "duration": 1653,
    "start_time": "2023-05-11T20:51:12.873Z"
   },
   {
    "duration": 757,
    "start_time": "2023-05-11T20:54:22.326Z"
   },
   {
    "duration": 27652,
    "start_time": "2023-05-11T20:54:23.086Z"
   },
   {
    "duration": 892,
    "start_time": "2023-05-11T20:54:50.740Z"
   },
   {
    "duration": 2588,
    "start_time": "2023-05-11T20:54:51.635Z"
   },
   {
    "duration": 1289,
    "start_time": "2023-05-11T20:54:54.229Z"
   },
   {
    "duration": 198,
    "start_time": "2023-05-11T20:54:55.522Z"
   },
   {
    "duration": 3,
    "start_time": "2023-05-11T20:54:55.721Z"
   },
   {
    "duration": 97,
    "start_time": "2023-05-11T20:54:55.726Z"
   },
   {
    "duration": 200,
    "start_time": "2023-05-11T20:54:55.825Z"
   },
   {
    "duration": 6,
    "start_time": "2023-05-11T20:54:56.029Z"
   },
   {
    "duration": 10792,
    "start_time": "2023-05-11T20:54:56.037Z"
   },
   {
    "duration": 2383,
    "start_time": "2023-05-11T20:55:06.831Z"
   },
   {
    "duration": 101,
    "start_time": "2023-05-11T20:55:09.216Z"
   },
   {
    "duration": 5,
    "start_time": "2023-05-11T20:55:09.319Z"
   },
   {
    "duration": 1521,
    "start_time": "2023-05-11T20:55:09.327Z"
   },
   {
    "duration": 0,
    "start_time": "2023-05-11T20:55:10.853Z"
   },
   {
    "duration": 0,
    "start_time": "2023-05-11T20:55:10.855Z"
   },
   {
    "duration": 0,
    "start_time": "2023-05-11T20:55:10.856Z"
   },
   {
    "duration": 765,
    "start_time": "2023-05-11T21:09:27.275Z"
   },
   {
    "duration": 26971,
    "start_time": "2023-05-11T21:09:28.043Z"
   },
   {
    "duration": 711,
    "start_time": "2023-05-11T21:09:55.016Z"
   },
   {
    "duration": 2509,
    "start_time": "2023-05-11T21:09:55.730Z"
   },
   {
    "duration": 975,
    "start_time": "2023-05-11T21:09:58.241Z"
   },
   {
    "duration": 119,
    "start_time": "2023-05-11T21:09:59.218Z"
   },
   {
    "duration": 3,
    "start_time": "2023-05-11T21:09:59.339Z"
   },
   {
    "duration": 100,
    "start_time": "2023-05-11T21:09:59.406Z"
   },
   {
    "duration": 167,
    "start_time": "2023-05-11T21:09:59.509Z"
   },
   {
    "duration": 7,
    "start_time": "2023-05-11T21:09:59.706Z"
   },
   {
    "duration": 10902,
    "start_time": "2023-05-11T21:09:59.715Z"
   },
   {
    "duration": 2623,
    "start_time": "2023-05-11T21:10:10.620Z"
   },
   {
    "duration": 5539,
    "start_time": "2023-05-11T21:10:13.247Z"
   },
   {
    "duration": 24,
    "start_time": "2023-05-11T21:10:18.788Z"
   },
   {
    "duration": 328,
    "start_time": "2023-05-11T21:10:18.814Z"
   },
   {
    "duration": 75,
    "start_time": "2023-05-11T21:16:22.824Z"
   },
   {
    "duration": 89,
    "start_time": "2023-05-11T21:16:47.569Z"
   },
   {
    "duration": 87,
    "start_time": "2023-05-11T21:17:09.200Z"
   },
   {
    "duration": 78,
    "start_time": "2023-05-11T21:18:03.428Z"
   },
   {
    "duration": 751,
    "start_time": "2023-05-11T21:27:20.020Z"
   },
   {
    "duration": 28964,
    "start_time": "2023-05-11T21:27:20.774Z"
   },
   {
    "duration": 1070,
    "start_time": "2023-05-11T21:27:49.740Z"
   },
   {
    "duration": 2530,
    "start_time": "2023-05-11T21:27:50.813Z"
   },
   {
    "duration": 1196,
    "start_time": "2023-05-11T21:27:53.346Z"
   },
   {
    "duration": 272,
    "start_time": "2023-05-11T21:27:54.545Z"
   },
   {
    "duration": 11,
    "start_time": "2023-05-11T21:27:54.819Z"
   },
   {
    "duration": 93,
    "start_time": "2023-05-11T21:27:54.833Z"
   },
   {
    "duration": 319,
    "start_time": "2023-05-11T21:27:54.928Z"
   },
   {
    "duration": 5,
    "start_time": "2023-05-11T21:27:55.306Z"
   },
   {
    "duration": 11123,
    "start_time": "2023-05-11T21:27:55.313Z"
   },
   {
    "duration": 2582,
    "start_time": "2023-05-11T21:28:06.437Z"
   },
   {
    "duration": 5834,
    "start_time": "2023-05-11T21:28:09.024Z"
   },
   {
    "duration": 8,
    "start_time": "2023-05-11T21:28:14.862Z"
   },
   {
    "duration": 244,
    "start_time": "2023-05-11T21:28:14.872Z"
   },
   {
    "duration": 72,
    "start_time": "2023-05-12T06:42:49.744Z"
   },
   {
    "duration": 1296,
    "start_time": "2023-06-04T13:01:42.033Z"
   },
   {
    "duration": 44486,
    "start_time": "2023-06-04T13:01:43.331Z"
   },
   {
    "duration": 1350,
    "start_time": "2023-06-04T13:02:27.819Z"
   },
   {
    "duration": 3296,
    "start_time": "2023-06-04T13:02:29.171Z"
   },
   {
    "duration": 1288,
    "start_time": "2023-06-04T13:02:32.473Z"
   },
   {
    "duration": 292,
    "start_time": "2023-06-04T13:02:33.762Z"
   },
   {
    "duration": 7,
    "start_time": "2023-06-04T13:02:34.055Z"
   },
   {
    "duration": 98,
    "start_time": "2023-06-04T13:02:34.068Z"
   },
   {
    "duration": 608,
    "start_time": "2023-06-04T13:02:34.167Z"
   },
   {
    "duration": 21,
    "start_time": "2023-06-04T13:02:34.784Z"
   },
   {
    "duration": 16501,
    "start_time": "2023-06-04T13:02:34.815Z"
   },
   {
    "duration": 3372,
    "start_time": "2023-06-04T13:02:51.318Z"
   },
   {
    "duration": 7653,
    "start_time": "2023-06-04T13:02:54.692Z"
   },
   {
    "duration": 45,
    "start_time": "2023-06-04T13:03:02.348Z"
   },
   {
    "duration": 636,
    "start_time": "2023-06-04T13:03:02.395Z"
   }
  ],
  "colab": {
   "name": "PySparkSprint.ipynb",
   "provenance": []
  },
  "kernelspec": {
   "display_name": "Python 3 (ipykernel)",
   "language": "python",
   "name": "python3"
  },
  "language_info": {
   "codemirror_mode": {
    "name": "ipython",
    "version": 3
   },
   "file_extension": ".py",
   "mimetype": "text/x-python",
   "name": "python",
   "nbconvert_exporter": "python",
   "pygments_lexer": "ipython3",
   "version": "3.9.5"
  },
  "toc": {
   "base_numbering": 1,
   "nav_menu": {},
   "number_sections": false,
   "sideBar": true,
   "skip_h1_title": true,
   "title_cell": "Table of Contents",
   "title_sidebar": "Contents",
   "toc_cell": false,
   "toc_position": {},
   "toc_section_display": true,
   "toc_window_display": false
  }
 },
 "nbformat": 4,
 "nbformat_minor": 5
}
